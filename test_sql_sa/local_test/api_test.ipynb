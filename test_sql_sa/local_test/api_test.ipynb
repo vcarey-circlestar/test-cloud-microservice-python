{
 "cells": [
  {
   "cell_type": "markdown",
   "id": "d1afead8-d9e4-45fc-bdfc-770267bf2c08",
   "metadata": {},
   "source": [
    "# Try an API call\n",
    "Python 3.11 and activated virtual environment. pip install google-cloud-secret-manager, google-auth, google-cloud-storage"
   ]
  },
  {
   "cell_type": "code",
   "execution_count": 15,
   "id": "b11e149f-b531-4a5f-9cc3-c30b8e586cd6",
   "metadata": {},
   "outputs": [],
   "source": [
    "import os\n",
    "import google.oauth2.id_token as gid_token\n",
    "import google.auth.transport.requests as grequests\n",
    "import requests"
   ]
  },
  {
   "cell_type": "code",
   "execution_count": 16,
   "id": "d554ca9f-2061-4c99-ba86-16fa9c1086b7",
   "metadata": {},
   "outputs": [],
   "source": [
    "cred_file = '/Users/valeriecarey/Documents/circlestar/2025_03_21_google_cloud/secreta/circlestar-2024-3a438e4074e9.json'"
   ]
  },
  {
   "cell_type": "code",
   "execution_count": 17,
   "id": "64482e1b-23da-42c3-a04b-ebe49061c103",
   "metadata": {},
   "outputs": [],
   "source": [
    "os.environ['GOOGLE_APPLICATION_CREDENTIALS'] = cred_file"
   ]
  },
  {
   "cell_type": "code",
   "execution_count": 18,
   "id": "498a53a7-4b5e-4909-8ea7-3c1288c0297c",
   "metadata": {},
   "outputs": [],
   "source": [
    "gauth_req = grequests.Request()\n",
    "audience = \"https://test-cloud-microservice-python-test-sql-sa-98481520348.us-east5.run.app/api/tables\"\n",
    "\n",
    "id_token = gid_token.fetch_id_token(gauth_req, audience)"
   ]
  },
  {
   "cell_type": "code",
   "execution_count": 19,
   "id": "922ba332-5c4d-40e8-9eb1-95e9c713a520",
   "metadata": {},
   "outputs": [
    {
     "name": "stdout",
     "output_type": "stream",
     "text": [
      "200\n",
      "{\"tables\":[\"resumes\",\"users\"]}\n",
      "\n"
     ]
    }
   ],
   "source": [
    "headers = {\"Authorization\": f\"Bearer {id_token}\"}\n",
    "\n",
    "response = requests.get(audience, headers=headers)\n",
    "\n",
    "print(response.status_code)\n",
    "print(response.text)"
   ]
  },
  {
   "cell_type": "code",
   "execution_count": 20,
   "id": "7df77d92-22dc-4e23-bcfd-1ccb7511356c",
   "metadata": {},
   "outputs": [
    {
     "data": {
      "text/plain": [
       "'OK'"
      ]
     },
     "execution_count": 20,
     "metadata": {},
     "output_type": "execute_result"
    }
   ],
   "source": [
    "response.reason"
   ]
  },
  {
   "cell_type": "code",
   "execution_count": null,
   "id": "3c7f122a-b6c0-4f2d-92f6-d59b6a639d8f",
   "metadata": {},
   "outputs": [],
   "source": []
  }
 ],
 "metadata": {
  "kernelspec": {
   "display_name": "gc_api",
   "language": "python",
   "name": "gc_api"
  },
  "language_info": {
   "codemirror_mode": {
    "name": "ipython",
    "version": 3
   },
   "file_extension": ".py",
   "mimetype": "text/x-python",
   "name": "python",
   "nbconvert_exporter": "python",
   "pygments_lexer": "ipython3",
   "version": "3.11.11"
  }
 },
 "nbformat": 4,
 "nbformat_minor": 5
}
